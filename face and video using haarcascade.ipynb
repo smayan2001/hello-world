{
 "cells": [
  {
   "cell_type": "code",
   "execution_count": 1,
   "id": "18749474",
   "metadata": {},
   "outputs": [],
   "source": [
    "import cv2"
   ]
  },
  {
   "cell_type": "code",
   "execution_count": 2,
   "id": "76877d39",
   "metadata": {},
   "outputs": [],
   "source": [
    "face_cascade=cv2.CascadeClassifier('face_detector.xml')\n",
    "eye_cascade=cv2.CascadeClassifier('eye_detector.xml')"
   ]
  },
  {
   "cell_type": "code",
   "execution_count": 3,
   "id": "f3bcde3c",
   "metadata": {},
   "outputs": [],
   "source": [
    "img=cv2.imread('img.jpg')"
   ]
  },
  {
   "cell_type": "code",
   "execution_count": 4,
   "id": "f801c8f0",
   "metadata": {},
   "outputs": [],
   "source": [
    "scale_factor=1.1\n",
    "neighbors=10"
   ]
  },
  {
   "cell_type": "code",
   "execution_count": 5,
   "id": "5ff736d4",
   "metadata": {},
   "outputs": [
    {
     "data": {
      "text/plain": [
       "array([[ 28,  35, 148, 148]])"
      ]
     },
     "execution_count": 5,
     "metadata": {},
     "output_type": "execute_result"
    }
   ],
   "source": [
    "faces=face_cascade.detectMultiScale(img,scale_factor,neighbors)\n",
    "faces"
   ]
  },
  {
   "cell_type": "code",
   "execution_count": 6,
   "id": "2c59e2fb",
   "metadata": {},
   "outputs": [],
   "source": [
    "scale_factor=1.5\n",
    "neighbors=1"
   ]
  },
  {
   "cell_type": "code",
   "execution_count": 7,
   "id": "61e67c18",
   "metadata": {},
   "outputs": [
    {
     "data": {
      "text/plain": [
       "array([[ 49,  67,  45,  45],\n",
       "       [112,  67,  45,  45]])"
      ]
     },
     "execution_count": 7,
     "metadata": {},
     "output_type": "execute_result"
    }
   ],
   "source": [
    "eyes=eye_cascade.detectMultiScale(img,scale_factor,neighbors)\n",
    "eyes"
   ]
  },
  {
   "cell_type": "code",
   "execution_count": 8,
   "id": "7f83df1b",
   "metadata": {},
   "outputs": [],
   "source": [
    "for (x,y,w,h) in faces:\n",
    "    cv2.rectangle(img,(x,y),(x+w,y+h),(255,0,0),5)\n",
    "for (x,y,w,h) in eyes:\n",
    "    cv2.rectangle(img,(x,y),(x+w,y+h),(0,255,0),5)"
   ]
  },
  {
   "cell_type": "code",
   "execution_count": 9,
   "id": "4f87743e",
   "metadata": {},
   "outputs": [],
   "source": [
    "cv2.imshow(\"Image\",img)\n",
    "cv2.waitKey(0)\n",
    "cv2.destroyAllWindows()"
   ]
  },
  {
   "cell_type": "code",
   "execution_count": 10,
   "id": "570104c3",
   "metadata": {},
   "outputs": [],
   "source": [
    "cap=cv2.VideoCapture('video.mp4')\n",
    "if(cap.isOpened()==False):\n",
    "    print(\"Video not loaded\")\n",
    "    exit()\n",
    "while(cap.isOpened()):\n",
    "    _,frame=cap.read()\n",
    "    frame=cv2.resize(frame,(512,512))\n",
    "    scale_factor=1.1\n",
    "    neighbors=16\n",
    "    faces=face_cascade.detectMultiScale(frame,scale_factor,neighbors)\n",
    "    scale_factor=1.3\n",
    "    neighbors=5\n",
    "    eyes=eye_cascade.detectMultiScale(frame,scale_factor,neighbors)\n",
    "    for(x,y,w,h)in faces:\n",
    "        cv2.rectangle(frame,(x,y),(x+w,y+h),(255,0,0),5)\n",
    "    for(x,y,w,h)in eyes:\n",
    "        cv2.rectangle(frame,(x,y),(x+w,y+h),(0,255,0),5)\n",
    "    cv2.imshow('Video',frame)\n",
    "    if cv2.waitKey(1)&0xFF==ord('q'):\n",
    "        break\n",
    "cv2.destroyAllWindows()"
   ]
  },
  {
   "cell_type": "code",
   "execution_count": null,
   "id": "e44d57fe",
   "metadata": {},
   "outputs": [],
   "source": []
  }
 ],
 "metadata": {
  "kernelspec": {
   "display_name": "Python 3 (ipykernel)",
   "language": "python",
   "name": "python3"
  },
  "language_info": {
   "codemirror_mode": {
    "name": "ipython",
    "version": 3
   },
   "file_extension": ".py",
   "mimetype": "text/x-python",
   "name": "python",
   "nbconvert_exporter": "python",
   "pygments_lexer": "ipython3",
   "version": "3.9.7"
  }
 },
 "nbformat": 4,
 "nbformat_minor": 5
}
