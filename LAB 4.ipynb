{
 "cells": [
  {
   "cell_type": "code",
   "execution_count": 1,
   "id": "1513c41c",
   "metadata": {},
   "outputs": [],
   "source": [
    "import cv2\n",
    "import numpy as np\n",
    "Img = np.zeros((512, 512, 3), dtype='uint8')\n",
    "# Using cv2.putText() method\n",
    "font = cv2.FONT_HERSHEY_SIMPLEX\n",
    "org = (50,200)\n",
    "fontScale = 3\n",
    "color = (255, 255, 255)\n",
    "thickness = 15\n",
    "Img = cv2.putText(Img,'OpenCV',org, font,fontScale, color,thickness,cv2.LINE_AA)\n",
    "# Creating kernel\n",
    "kernel =np.ones((5, 5), np.uint8)\n",
    "# Using cv2.erode() method\n",
    "img_erosion =cv2.erode(Img, kernel, iterations=1)\n",
    "# Using cv2.dilate() method\n",
    "img_dilation =cv2.dilate(Img, kernel, iterations=1)\n",
    "# opening the image\n",
    "img_opening = cv2.morphologyEx(Img, cv2.MORPH_OPEN, kernel, iterations=1)\n",
    "# closing the image\n",
    "img_closing = cv2.morphologyEx(Img, cv2.MORPH_CLOSE, kernel, iterations=1)\n",
    "# use morph gradient\n",
    "img_morph_gradient = cv2.morphologyEx(Img, cv2.MORPH_GRADIENT, kernel)\n",
    "# Displaying the image\n",
    "cv2.imshow('Original_image', Img)\n",
    "cv2.imshow('Erosion', img_erosion)\n",
    "cv2.imshow('Dilation', img_dilation)\n",
    "cv2.imshow('Opening', img_opening)\n",
    "cv2.imshow('Closing', img_closing)\n",
    "cv2.imshow('morph_gradient', img_morph_gradient)\n",
    "cv2.waitKey(0)\n",
    "cv2.destroyAllWindows()"
   ]
  },
  {
   "cell_type": "code",
   "execution_count": null,
   "id": "e563590a",
   "metadata": {},
   "outputs": [],
   "source": []
  }
 ],
 "metadata": {
  "kernelspec": {
   "display_name": "Python 3 (ipykernel)",
   "language": "python",
   "name": "python3"
  },
  "language_info": {
   "codemirror_mode": {
    "name": "ipython",
    "version": 3
   },
   "file_extension": ".py",
   "mimetype": "text/x-python",
   "name": "python",
   "nbconvert_exporter": "python",
   "pygments_lexer": "ipython3",
   "version": "3.9.13"
  }
 },
 "nbformat": 4,
 "nbformat_minor": 5
}
