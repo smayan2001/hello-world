{
 "cells": [
  {
   "cell_type": "code",
   "execution_count": 3,
   "id": "6ca8542e",
   "metadata": {},
   "outputs": [
    {
     "name": "stdout",
     "output_type": "stream",
     "text": [
      "Number of Contours found = 119\n"
     ]
    }
   ],
   "source": [
    "# Python program to illustrate\n",
    "# simplethresholding type on an image\n",
    "import cv2\n",
    "import numpy as np\n",
    "from matplotlib import pyplot as plt\n",
    "image1 =cv2.imread('tomato.jpg')\n",
    "img =cv2.cvtColor(image1, cv2.COLOR_BGR2GRAY)\n",
    "# applying different thresholding\n",
    "# techniques on the input image\n",
    "#cv2.THRESH_BINARY: If pixel intensity is greater than\n",
    "#the set threshold, value set to 255, else set to 0 (black).\n",
    "ret, thresh1 =cv2.threshold(img, 120, 255, cv2.THRESH_BINARY)\n",
    "#cv2.THRESH_BINARY_INV: Inverted or Opposite case of cv2.THRESH_BINARY.\n",
    "ret, thresh2 =cv2.threshold(img, 120, 255, cv2.THRESH_BINARY_INV)\n",
    "#cv.THRESH_TRUNC: If pixel intensity value is greater than threshold,\n",
    "#it is truncated to the threshold. The pixel values are set to be the\n",
    "#same as the threshold. All other values remain the same.\n",
    "ret, thresh3 =cv2.threshold(img, 120, 255, cv2.THRESH_TRUNC)\n",
    "#cv.THRESH_TOZERO: Pixel intensity is set to 0, for all the pixels\n",
    "#intensity, less than the threshold value.\n",
    "ret, thresh4 =cv2.threshold(img, 120, 255, cv2.THRESH_TOZERO)\n",
    "#cv.THRESH_TOZERO_INV: Inverted or Opposite case of cv2.THRESH_TOZERO.\n",
    "ret, thresh5 =cv2.threshold(img, 120, 255, cv2.THRESH_TOZERO_INV)\n",
    "# the window showing output images\n",
    "# with the corresponding thresholding\n",
    "# techniques applied to the input images\n",
    "cv2.imshow('Original', img)\n",
    "cv2.imshow('Binary Threshold', thresh1)\n",
    "cv2.imshow('Binary Threshold Inverted', thresh2)\n",
    "cv2.imshow('Truncated Threshold', thresh3)\n",
    "cv2.imshow('Set to 0', thresh4)\n",
    "cv2.imshow('Set to 0 Inverted', thresh5)\n",
    "blurred = cv2.GaussianBlur(thresh1, (3, 3), 0)\n",
    "edged = cv2.Canny(blurred, 10, 100)\n",
    "cv2.imshow(\"Edged image\", edged)\n",
    "# Finding Contours\n",
    "# Use a copy of the image e.g. edged.copy()\n",
    "# since findContours alters the image\n",
    "contours, hierarchy = cv2.findContours(edged,cv2.RETR_EXTERNAL,\n",
    "cv2.CHAIN_APPROX_NONE)\n",
    "print(\"Number of Contours found = \" + str(len(contours)))\n",
    "# Draw all contours\n",
    "# -1 signifies drawing all contours\n",
    "cv2.drawContours(image1, contours, -1, (0, 255, 0), 3)\n",
    "cv2.imshow('Contours', image1)\n",
    "# De-allocate any associated memory usage\n",
    "cv2.waitKey(0)\n",
    "cv2.destroyAllWindows()"
   ]
  },
  {
   "cell_type": "code",
   "execution_count": null,
   "id": "9ed4939e",
   "metadata": {},
   "outputs": [],
   "source": []
  }
 ],
 "metadata": {
  "kernelspec": {
   "display_name": "Python 3 (ipykernel)",
   "language": "python",
   "name": "python3"
  },
  "language_info": {
   "codemirror_mode": {
    "name": "ipython",
    "version": 3
   },
   "file_extension": ".py",
   "mimetype": "text/x-python",
   "name": "python",
   "nbconvert_exporter": "python",
   "pygments_lexer": "ipython3",
   "version": "3.9.13"
  }
 },
 "nbformat": 4,
 "nbformat_minor": 5
}
