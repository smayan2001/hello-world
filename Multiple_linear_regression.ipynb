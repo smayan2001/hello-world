{
  "nbformat": 4,
  "nbformat_minor": 0,
  "metadata": {
    "colab": {
      "provenance": []
    },
    "kernelspec": {
      "name": "python3",
      "display_name": "Python 3"
    },
    "language_info": {
      "name": "python"
    }
  },
  "cells": [
    {
      "cell_type": "markdown",
      "source": [
        "# Multiple linear regression"
      ],
      "metadata": {
        "id": "YTP4mxA9kqsc"
      }
    },
    {
      "cell_type": "code",
      "source": [
        "# importing modules and packages\n",
        "import pandas as pd\n",
        "import numpy as np\n",
        "import matplotlib.pyplot as plt\n",
        "import seaborn as sns\n",
        "from sklearn.model_selection import train_test_split\n",
        "from sklearn.linear_model import LinearRegression\n",
        "from sklearn.metrics import mean_squared_error, mean_absolute_error\n",
        "from sklearn import preprocessing\n"
      ],
      "metadata": {
        "id": "Eh7ArCCfktj6"
      },
      "execution_count": 1,
      "outputs": []
    },
    {
      "cell_type": "code",
      "source": [],
      "metadata": {
        "id": "WUB2UAloky-H"
      },
      "execution_count": 2,
      "outputs": []
    },
    {
      "cell_type": "code",
      "source": [
        "# importing data\n",
        "df = pd.read_csv('Real-estate1.csv')\n",
        "df.drop('No', inplace = True,axis=1)\n",
        "\n",
        "print(df.head())\n",
        "print(df.columns)\n"
      ],
      "metadata": {
        "colab": {
          "base_uri": "https://localhost:8080/"
        },
        "id": "PcnxpBELlAMh",
        "outputId": "0d152ead-5bfb-4422-e3e0-7ec6c4f4a698"
      },
      "execution_count": 3,
      "outputs": [
        {
          "output_type": "stream",
          "name": "stdout",
          "text": [
            "   X1 transaction date  X2 house age  X3 distance to the nearest MRT station  \\\n",
            "0             2012.917          32.0                                84.87882   \n",
            "1             2012.917          19.5                               306.59470   \n",
            "2             2013.583          13.3                               561.98450   \n",
            "3             2013.500          13.3                               561.98450   \n",
            "4             2012.833           5.0                               390.56840   \n",
            "\n",
            "   X4 number of convenience stores  X5 latitude  X6 longitude  \\\n",
            "0                               10     24.98298     121.54024   \n",
            "1                                9     24.98034     121.53951   \n",
            "2                                5     24.98746     121.54391   \n",
            "3                                5     24.98746     121.54391   \n",
            "4                                5     24.97937     121.54245   \n",
            "\n",
            "   Y house price of unit area  \n",
            "0                        37.9  \n",
            "1                        42.2  \n",
            "2                        47.3  \n",
            "3                        54.8  \n",
            "4                        43.1  \n",
            "Index(['X1 transaction date', 'X2 house age',\n",
            "       'X3 distance to the nearest MRT station',\n",
            "       'X4 number of convenience stores', 'X5 latitude', 'X6 longitude',\n",
            "       'Y house price of unit area'],\n",
            "      dtype='object')\n"
          ]
        }
      ]
    },
    {
      "cell_type": "code",
      "source": [
        "# Create feature set and target variable\n",
        "# creating feature variables\n",
        "X = df.drop('Y house price of unit area',axis= 1)\n",
        "y = df['Y house price of unit area']\n",
        "print(X)\n",
        "print(y)\n"
      ],
      "metadata": {
        "colab": {
          "base_uri": "https://localhost:8080/"
        },
        "id": "rT-hgbuslKDK",
        "outputId": "bbfdc530-8864-4811-da4c-bae9fff8e7f3"
      },
      "execution_count": 4,
      "outputs": [
        {
          "output_type": "stream",
          "name": "stdout",
          "text": [
            "     X1 transaction date  X2 house age  \\\n",
            "0               2012.917          32.0   \n",
            "1               2012.917          19.5   \n",
            "2               2013.583          13.3   \n",
            "3               2013.500          13.3   \n",
            "4               2012.833           5.0   \n",
            "..                   ...           ...   \n",
            "409             2013.000          13.7   \n",
            "410             2012.667           5.6   \n",
            "411             2013.250          18.8   \n",
            "412             2013.000           8.1   \n",
            "413             2013.500           6.5   \n",
            "\n",
            "     X3 distance to the nearest MRT station  X4 number of convenience stores  \\\n",
            "0                                  84.87882                               10   \n",
            "1                                 306.59470                                9   \n",
            "2                                 561.98450                                5   \n",
            "3                                 561.98450                                5   \n",
            "4                                 390.56840                                5   \n",
            "..                                      ...                              ...   \n",
            "409                              4082.01500                                0   \n",
            "410                                90.45606                                9   \n",
            "411                               390.96960                                7   \n",
            "412                               104.81010                                5   \n",
            "413                                90.45606                                9   \n",
            "\n",
            "     X5 latitude  X6 longitude  \n",
            "0       24.98298     121.54024  \n",
            "1       24.98034     121.53951  \n",
            "2       24.98746     121.54391  \n",
            "3       24.98746     121.54391  \n",
            "4       24.97937     121.54245  \n",
            "..           ...           ...  \n",
            "409     24.94155     121.50381  \n",
            "410     24.97433     121.54310  \n",
            "411     24.97923     121.53986  \n",
            "412     24.96674     121.54067  \n",
            "413     24.97433     121.54310  \n",
            "\n",
            "[414 rows x 6 columns]\n",
            "0      37.9\n",
            "1      42.2\n",
            "2      47.3\n",
            "3      54.8\n",
            "4      43.1\n",
            "       ... \n",
            "409    15.4\n",
            "410    50.0\n",
            "411    40.6\n",
            "412    52.5\n",
            "413    63.9\n",
            "Name: Y house price of unit area, Length: 414, dtype: float64\n"
          ]
        }
      ]
    },
    {
      "cell_type": "code",
      "source": [
        "# Train test split\n",
        "# creating train and test sets\n",
        "X_train, X_test, y_train, y_test = train_test_split(\n",
        "\tX, y, test_size=0.3, random_state=101)\n"
      ],
      "metadata": {
        "id": "CLtGK-H3lUdL"
      },
      "execution_count": 5,
      "outputs": []
    },
    {
      "cell_type": "code",
      "source": [
        "# Creation of regresion model\n",
        "# creating a regression model\n",
        "model = LinearRegression()\n"
      ],
      "metadata": {
        "id": "52SByRWZlb0e"
      },
      "execution_count": 7,
      "outputs": []
    },
    {
      "cell_type": "code",
      "source": [
        "# Fit the model\n",
        "# fitting the model\n",
        "model.fit(X_train,y_train)\n"
      ],
      "metadata": {
        "colab": {
          "base_uri": "https://localhost:8080/"
        },
        "id": "jcF9TD2Hli3k",
        "outputId": "38c5f0a7-dea7-466a-ff0f-382ea4474dc9"
      },
      "execution_count": 8,
      "outputs": [
        {
          "output_type": "execute_result",
          "data": {
            "text/plain": [
              "LinearRegression()"
            ]
          },
          "metadata": {},
          "execution_count": 8
        }
      ]
    },
    {
      "cell_type": "code",
      "source": [
        "# Make prediction\n",
        "# making predictions\n",
        "predictions = model.predict(X_test)\n"
      ],
      "metadata": {
        "id": "waU9Rk5QllIJ"
      },
      "execution_count": 9,
      "outputs": []
    },
    {
      "cell_type": "code",
      "source": [
        "# Model evaluation\n",
        "# model evaluation\n",
        "print(\n",
        "'mean_squared_error : ', mean_squared_error(y_test, predictions))\n",
        "print(\n",
        "'mean_absolute_error : ', mean_absolute_error(y_test, predictions))\n"
      ],
      "metadata": {
        "colab": {
          "base_uri": "https://localhost:8080/"
        },
        "id": "kSUreklJlnyb",
        "outputId": "1bda0b21-50ce-44f6-a910-191673b3836c"
      },
      "execution_count": 10,
      "outputs": [
        {
          "output_type": "stream",
          "name": "stdout",
          "text": [
            "mean_squared_error :  46.2117978349358\n",
            "mean_absolute_error :  5.392293684756716\n"
          ]
        }
      ]
    }
  ]
}