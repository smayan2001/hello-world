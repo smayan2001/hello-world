{
 "cells": [
  {
   "cell_type": "code",
   "execution_count": 1,
   "id": "aa7395e1",
   "metadata": {},
   "outputs": [],
   "source": [
    "import numpy as np\n",
    "import cv2\n",
    "# Creating a black screen image using nupy.zeros function\n",
    "Img_1 = np.zeros((512, 512, 3), dtype='uint8')\n",
    "Img_2 = np.zeros((512, 512, 3), dtype='uint8')\n",
    "Img_1 = cv2.rectangle(Img_1, (100,200), (300,450),(255,255,255), -1)\n",
    "Img_2 = cv2.rectangle(Img_2, (100,200), (400,450),(255,255,255), -1)\n",
    "bitwise_and = cv2.bitwise_and(Img_2, Img_1, mask=None)\n",
    "bitwise_or = cv2.bitwise_or(Img_2, Img_1, mask=None)\n",
    "bitwise_xor = cv2.bitwise_xor(Img_2, Img_1, mask=None)\n",
    "bitwise_not =cv2.bitwise_not(Img_2, mask=None)\n",
    "cv2.imshow('Image_1', Img_1)\n",
    "cv2.imshow('Image_2', Img_2)\n",
    "cv2.imshow('bitwise_and', bitwise_and)\n",
    "cv2.imshow('bitwise_or', bitwise_or)\n",
    "cv2.imshow('bitwise_xor', bitwise_xor)\n",
    "cv2.imshow('bitwise_not', bitwise_not)\n",
    "cv2.waitKey(0)\n",
    "cv2.destroyAllWindows()"
   ]
  },
  {
   "cell_type": "code",
   "execution_count": null,
   "id": "2673501a",
   "metadata": {},
   "outputs": [],
   "source": []
  }
 ],
 "metadata": {
  "kernelspec": {
   "display_name": "Python 3 (ipykernel)",
   "language": "python",
   "name": "python3"
  },
  "language_info": {
   "codemirror_mode": {
    "name": "ipython",
    "version": 3
   },
   "file_extension": ".py",
   "mimetype": "text/x-python",
   "name": "python",
   "nbconvert_exporter": "python",
   "pygments_lexer": "ipython3",
   "version": "3.9.13"
  }
 },
 "nbformat": 4,
 "nbformat_minor": 5
}
