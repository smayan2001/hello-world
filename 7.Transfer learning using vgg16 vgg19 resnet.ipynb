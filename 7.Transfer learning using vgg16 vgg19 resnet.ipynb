{
 "cells": [
  {
   "cell_type": "code",
   "execution_count": 1,
   "id": "25c5e84a",
   "metadata": {},
   "outputs": [],
   "source": [
    "import numpy as np\n",
    "from tensorflow import keras\n",
    "from tensorflow.keras import layers\n",
    "from tensorflow.keras.applications import VGG16, VGG19, ResNet50\n",
    "from tensorflow.keras.datasets import cifar10\n",
    "from tensorflow.keras.utils import to_categorical\n"
   ]
  },
  {
   "cell_type": "markdown",
   "id": "6065c163",
   "metadata": {},
   "source": [
    "We will use the CIFAR-10 dataset for this example. The CIFAR-10 dataset consists of 60,000 32x32 color images in 10 classes, with 6,000 images per class. We will preprocess the data by scaling the pixel values to the range [0, 1] and converting the labels to one-hot encoding:"
   ]
  },
  {
   "cell_type": "code",
   "execution_count": 2,
   "id": "33c7c7fc",
   "metadata": {},
   "outputs": [],
   "source": [
    "# Load the CIFAR-10 dataset\n",
    "(x_train, y_train), (x_test, y_test) = cifar10.load_data()\n",
    "\n",
    "# Preprocess the data\n",
    "x_train = x_train.astype(\"float32\") / 255.0\n",
    "x_test = x_test.astype(\"float32\") / 255.0\n",
    "#categorical encoding\n",
    "y_train = to_categorical(y_train, 10)\n",
    "y_test = to_categorical(y_test, 10)\n"
   ]
  },
  {
   "cell_type": "markdown",
   "id": "aa2db696",
   "metadata": {},
   "source": [
    "Next, we will define the pre-trained models that we want to use for transfer learning. We will use the include_top=False argument to remove the fully connected layers from the models, since we will be adding our own output layer. We will also specify the input_shape argument to match the input shape of the CIFAR-10 dataset:"
   ]
  },
  {
   "cell_type": "code",
   "execution_count": 3,
   "id": "025b0787",
   "metadata": {},
   "outputs": [
    {
     "name": "stdout",
     "output_type": "stream",
     "text": [
      "Downloading data from https://storage.googleapis.com/tensorflow/keras-applications/vgg19/vgg19_weights_tf_dim_ordering_tf_kernels_notop.h5\n",
      "80134624/80134624 [==============================] - 83s 1us/step\n",
      "Downloading data from https://storage.googleapis.com/tensorflow/keras-applications/resnet/resnet50_weights_tf_dim_ordering_tf_kernels_notop.h5\n",
      "94765736/94765736 [==============================] - 103s 1us/step\n"
     ]
    }
   ],
   "source": [
    "# Define the pre-trained models\n",
    "vgg16 = VGG16(weights=\"imagenet\", include_top=False, input_shape=(32, 32, 3))\n",
    "vgg19 = VGG19(weights=\"imagenet\", include_top=False, input_shape=(32, 32, 3))\n",
    "resnet = ResNet50(weights=\"imagenet\", include_top=False, input_shape=(32, 32, 3))\n"
   ]
  },
  {
   "cell_type": "markdown",
   "id": "ab659d4a",
   "metadata": {},
   "source": [
    "We will now define the output layers for each model. Since we are using the CIFAR-10 dataset, we will add a global average pooling layer to reduce the spatial dimensions of the output feature map, followed by a dense output layer with 10 units and softmax activation for classification:"
   ]
  },
  {
   "cell_type": "code",
   "execution_count": 4,
   "id": "3f235b82",
   "metadata": {},
   "outputs": [],
   "source": [
    "# Define the output layers\n",
    "vgg16_output = layers.GlobalAveragePooling2D()(vgg16.output)\n",
    "vgg16_output = layers.Dense(10, activation=\"softmax\")(vgg16_output)\n",
    "\n",
    "vgg19_output = layers.GlobalAveragePooling2D()(vgg19.output)\n",
    "vgg19_output = layers.Dense(10, activation=\"softmax\")(vgg19_output)\n",
    "\n",
    "resnet_output = layers.GlobalAveragePooling2D()(resnet.output)\n",
    "resnet_output = layers.Dense(10, activation=\"softmax\")(resnet_output)\n"
   ]
  },
  {
   "cell_type": "code",
   "execution_count": 5,
   "id": "6d19a51a",
   "metadata": {},
   "outputs": [],
   "source": [
    "# Define the complete models\n",
    "vgg16_model = keras.Model(inputs=vgg16.input, outputs=vgg16_output)\n",
    "vgg19_model = keras.Model(inputs=vgg19.input, outputs=vgg19_output)\n",
    "resnet_model = keras.Model(inputs=resnet.input, outputs=resnet_output)\n"
   ]
  },
  {
   "cell_type": "code",
   "execution_count": 6,
   "id": "c76ce8e0",
   "metadata": {},
   "outputs": [
    {
     "name": "stdout",
     "output_type": "stream",
     "text": [
      "VGG16 Test Accuracy: 0.08919999748468399\n",
      "VGG19 Test Accuracy: 0.13680000603199005\n",
      "ResNet50 Test Accuracy: 0.09189999848604202\n"
     ]
    }
   ],
   "source": [
    "# Compile the models\n",
    "vgg16_model.compile(loss=\"categorical_crossentropy\", optimizer=\"adam\", metrics=[\"accuracy\"])\n",
    "vgg19_model.compile(loss=\"categorical_crossentropy\", optimizer=\"adam\", metrics=[\"accuracy\"])\n",
    "resnet_model.compile(loss=\"categorical_crossentropy\", optimizer=\"adam\", metrics=[\"accuracy\"])\n",
    "\n",
    "# Evaluate the models\n",
    "vgg16_loss, vgg16_accuracy = vgg16_model.evaluate(x_test, y_test, verbose=0)\n",
    "vgg19_loss, vgg19_accuracy = vgg19_model.evaluate(x_test, y_test, verbose=0)\n",
    "resnet_loss, resnet_accuracy = resnet_model.evaluate(x_test, y_test, verbose=0)\n",
    "\n",
    "# Print the results\n",
    "print(\"VGG16 Test Accuracy:\", vgg16_accuracy)\n",
    "print(\"VGG19 Test Accuracy:\", vgg19_accuracy)\n",
    "print(\"ResNet50 Test Accuracy:\", resnet_accuracy)\n"
   ]
  },
  {
   "cell_type": "code",
   "execution_count": null,
   "id": "1606630a",
   "metadata": {},
   "outputs": [],
   "source": []
  }
 ],
 "metadata": {
  "kernelspec": {
   "display_name": "Python 3 (ipykernel)",
   "language": "python",
   "name": "python3"
  },
  "language_info": {
   "codemirror_mode": {
    "name": "ipython",
    "version": 3
   },
   "file_extension": ".py",
   "mimetype": "text/x-python",
   "name": "python",
   "nbconvert_exporter": "python",
   "pygments_lexer": "ipython3",
   "version": "3.8.16"
  }
 },
 "nbformat": 4,
 "nbformat_minor": 5
}
